{
  "nbformat": 4,
  "nbformat_minor": 0,
  "metadata": {
    "colab": {
      "provenance": [],
      "machine_shape": "hm",
      "gpuType": "A100"
    },
    "kernelspec": {
      "name": "python3",
      "display_name": "Python 3"
    },
    "language_info": {
      "name": "python"
    },
    "accelerator": "GPU"
  },
  "cells": [
    {
      "cell_type": "code",
      "execution_count": null,
      "metadata": {
        "id": "15Fo-MA6N1O_"
      },
      "outputs": [],
      "source": [
        "!pip install fiftyone"
      ]
    },
    {
      "cell_type": "code",
      "source": [
        "!fiftyone plugins download https://github.com/harpreetsahota204/synthetic_gui_samples_plugins.git --overwrite"
      ],
      "metadata": {
        "id": "zbfRmycvOx6e"
      },
      "execution_count": null,
      "outputs": []
    },
    {
      "cell_type": "code",
      "source": [
        "!fiftyone plugins download https://github.com/ehofesmann/edit_label_attributes"
      ],
      "metadata": {
        "id": "aUSvA7LlVUZ4"
      },
      "execution_count": null,
      "outputs": []
    },
    {
      "cell_type": "code",
      "source": [
        "import fiftyone as fo\n",
        "\n",
        "from fiftyone.utils.huggingface import load_from_hub\n",
        "\n",
        "dataset = load_from_hub(\n",
        "    \"harpreetsahota/FiftyOne-GUI-Grounding-Train\",\n",
        "    overwrite=True\n",
        "    )"
      ],
      "metadata": {
        "id": "ThQA59B-PsSe"
      },
      "execution_count": null,
      "outputs": []
    },
    {
      "cell_type": "code",
      "source": [
        "import fiftyone as fo\n",
        "import fiftyone.operators as foo\n",
        "\n",
        "invert_colors_augment = foo.get_operator(\"@harpreetsahota/synthetic_gui_samples_plugins/invert_colors_augment\")\n",
        "\n",
        "invert_colors_augment(\n",
        "    dataset,\n",
        "    copy_keypoints=True,\n",
        "    copy_detections=True,\n",
        "    delegate=True\n",
        "    )"
      ],
      "metadata": {
        "id": "ELWg3Tm2PvFz"
      },
      "execution_count": null,
      "outputs": []
    },
    {
      "cell_type": "code",
      "source": [
        "import fiftyone as fo\n",
        "import fiftyone.operators as foo\n",
        "\n",
        "colorblind_sim_augment = foo.get_operator(\"@harpreetsahota/synthetic_gui_samples_plugins/colorblind_sim_augment\")\n",
        "\n",
        "\n",
        "colorblind_sim_augment(\n",
        "    dataset,\n",
        "    colorblind_type=\"tritanopia\",\n",
        "    copy_keypoints=True,\n",
        "    copy_detections=True,\n",
        "    delegate=True\n",
        "    )"
      ],
      "metadata": {
        "id": "lGUW7tZAQamT"
      },
      "execution_count": null,
      "outputs": []
    },
    {
      "cell_type": "code",
      "source": [
        "colorblind_sim_augment(\n",
        "    dataset,\n",
        "    colorblind_type=\"protanopia\",\n",
        "    copy_keypoints=True,\n",
        "    copy_detections=True,\n",
        "    delegate=True\n",
        "    )"
      ],
      "metadata": {
        "id": "jnKQVOuiU5wy"
      },
      "execution_count": null,
      "outputs": []
    },
    {
      "cell_type": "code",
      "source": [
        "colorblind_sim_augment(\n",
        "    dataset,\n",
        "    colorblind_type=\"deuteranopia\",\n",
        "    copy_keypoints=True,\n",
        "    copy_detections=True,\n",
        "    delegate=True\n",
        "    )"
      ],
      "metadata": {
        "id": "XxydsrdEVDxO"
      },
      "execution_count": null,
      "outputs": []
    },
    {
      "cell_type": "code",
      "source": [
        "\n",
        "grayscale_augment = foo.get_operator(\"@harpreetsahota/synthetic_gui_samples_plugins/grayscale_augment\")\n",
        "\n",
        "\n",
        "grayscale_augment(\n",
        "    dataset,\n",
        "    copy_keypoints=True,\n",
        "    copy_detections=True,\n",
        "    delegate=True\n",
        "    )"
      ],
      "metadata": {
        "id": "Up75-0_jVTpt"
      },
      "execution_count": null,
      "outputs": []
    },
    {
      "cell_type": "code",
      "source": [
        "\n",
        "resizer = foo.get_operator(\"@harpreetsahota/synthetic_gui_samples_plugins/resize_images\")\n",
        "\n",
        "\n",
        "resizer(\n",
        "    dataset,\n",
        "    use_custom=False,\n",
        "    target_width=1440,\n",
        "    target_height=900,\n",
        "    copy_keypoints=True,\n",
        "    copy_detections=True,\n",
        "    delegate=False\n",
        "    )"
      ],
      "metadata": {
        "id": "8E6wKUQjWEML"
      },
      "execution_count": null,
      "outputs": []
    },
    {
      "cell_type": "code",
      "source": [
        "\n",
        "resizer(\n",
        "    dataset,\n",
        "    use_custom=False,\n",
        "    target_width=1440,\n",
        "    target_height=900,\n",
        "    copy_keypoints=True,\n",
        "    copy_detections=True,\n",
        "    delegate=True\n",
        "    )"
      ],
      "metadata": {
        "id": "L_Xt2y7MXL5H"
      },
      "execution_count": null,
      "outputs": []
    },
    {
      "cell_type": "code",
      "source": [
        "\n",
        "rephraser = foo.get_operator(\"@harpreetsahota/synthetic_gui_samples_plugins/task_description_augment\")\n",
        "\n",
        "\n",
        "rephraser(\n",
        "    dataset,\n",
        "    model_name=\"Qwen/Qwen3-8B\",\n",
        "    mode=\"rephrase\",\n",
        "    enable_thinking=True\n",
        "    process_keypoints=True,\n",
        "    process_detections=True,\n",
        "    delegate=True\n",
        "    )"
      ],
      "metadata": {
        "id": "V9S47vi_X6-e"
      },
      "execution_count": null,
      "outputs": []
    }
  ]
}